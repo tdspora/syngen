{
 "cells": [
  {
   "cell_type": "markdown",
   "id": "2e5e143b",
   "metadata": {},
   "source": [
    "# Quick start\n",
    "\n",
    "*EPAM Syngen* is an unsupervised tabular data generation tool based on a variational autoencoder (VAE). \n",
    "It supports common tabular datatypes (floats, ints, datetime, text, categorical, binary) and can generate linked tables that sharing keys using the simple statistical approach. \n",
    "The SDK exposes simple programmatic entry points for training, inference, report generation, loading and saving data in supported formats - *CSV*, *Avro* and *Excel* format. The data should be located locally and be in UTF-8 encoding."
   ]
  },
  {
   "cell_type": "markdown",
   "id": "ce15f263",
   "metadata": {},
   "source": [
    "This notebook demonstrates the SDK usage. Install the package and then you can call the main SDK class `Syngen` to run training, inference or generation of reports, and `DataIO` to load and save the data in supported formats."
   ]
  },
  {
   "cell_type": "markdown",
   "id": "fe338621",
   "metadata": {},
   "source": [
    "Python *3.10* or *3.11* is required to run the library. The library is tested on Linux and Windows operating systems."
   ]
  },
  {
   "cell_type": "markdown",
   "id": "bf002233",
   "metadata": {},
   "source": [
    "Please\n",
    "1. Install the package (from PyPI):\n",
    "\n",
    "2. Use the SDK:\n",
    "\n",
    "- `Syngen.train(...)` — train a model for a table. Key parameters include `source`, `table_name`, `epochs`, and `batch_size`.\n",
    "- `Syngen.infer(...)` — generate synthetic rows. Key parameters include `table_name`, `size`, `run_parallel` and `random_seed`.\n",
    "\n",
    "Notes: the library supports encrypting stored original data via a Fernet key (provide the name of an environment variable that holds the key using the `fernet_key` parameter). You can also generate accuracy and sample reports by passing `reports` either via the CLI or SDK methods."
   ]
  },
  {
   "cell_type": "markdown",
   "id": "58f88606",
   "metadata": {},
   "source": [
    "Please, install the library *syngen* (from Pypi):"
   ]
  },
  {
   "cell_type": "code",
   "execution_count": null,
   "id": "9bcbdea6c32caa5f",
   "metadata": {},
   "outputs": [],
   "source": [
    "!pip install syngen==0.10.28rc0"
   ]
  },
  {
   "cell_type": "markdown",
   "id": "d2c1c86c",
   "metadata": {},
   "source": [
    "## Launch training\n",
    "\n",
    "You can start training process using the SDK entrypoint `Syngen.train(...)`. The SDK mirrors the CLI options so you can pass the same parameters programmatically. Below is a concise description of the most useful parameters:\n",
    "\n",
    "```python\n",
    "Syngen.train(\n",
    "    metadata_path: Optional[str] = None,  # use a metadata YAML to train multiple tables or provide all params in a file\n",
    "    table_name: Optional[str] = None,     # required for single-table training\n",
    "    source: Optional[str] = None,         # path to original data\n",
    "    epochs: int = 10,                     # number of training epochs\n",
    "    drop_null: bool = False,              # whether to drop rows with at least one missing value\n",
    "    row_limit: Optional[int] = None,      # a number of rows to train over\n",
    "    reports: Union[str, List[str]] = \"none\",  # report types: 'none', 'accuracy', 'sample', 'metrics_only', 'all'\n",
    "    log_level: str = \"INFO\",               # logging level\n",
    "    batch_size: int = 32,                  # training batch size\n",
    "    fernet_key: Optional[str] = None       # name of the environment variable containing the Fernet key for secure storage\n",
    ")\n",
    "```\n",
    "\n",
    "Key notes:\n",
    "\n",
    "- `metadata_path`: provide a YAML metadata file to train multiple tables or to specify per-table settings. If `metadata_path` is given, SDK arguments for an individual table such as `source` and `table_name` are ignored in favor of metadata values.\n",
    "- `source` and `table_name`: when training a single table, both are required (the `source` is the path to the data file and `table_name` is an arbitrary name used for artifact folders).\n",
    "- `reports`: can be a single string or a list. Accepted values are `none` (default), `accuracy`, `sample`, `metrics_only`, or `all`. You can pass multiple reports (e.g. `['accuracy', 'sample']`) to generate more outputs after training.\n",
    "- `fernet_key`: pass the *name* of the environment variable that stores a 44-character URL-safe base64 Fernet key; when present, original data samples are encrypted on disk and the same key must be used during inference/reporting to decrypt them.\n",
    "```\n",
    "*Note*: For full documentation and additional details, please, follow the project's *README*: [README.md](../README.md)"
   ]
  },
  {
   "cell_type": "code",
   "execution_count": null,
   "id": "0e1a8684",
   "metadata": {},
   "outputs": [],
   "source": [
    "# Training on the provided example of the data located in the repository - \"./example-data/housing.csv\"\n",
    "\n",
    "from syngen.sdk import Syngen\n",
    "\n",
    "Syngen.train(\n",
    "    source='./examples/example-data/housing.csv', \n",
    "    table_name='Housing', \n",
    "    epochs=5,\n",
    "    drop_null=False,\n",
    "    row_limit=1000, \n",
    "    batch_size=32, \n",
    "    reports='all'\n",
    ")"
   ]
  },
  {
   "cell_type": "code",
   "execution_count": null,
   "id": "652f378a17c58f72",
   "metadata": {},
   "outputs": [],
   "source": []
  }
 ],
 "metadata": {
  "kernelspec": {
   "display_name": "Python 3",
   "language": "python",
   "name": "python3"
  },
  "language_info": {
   "codemirror_mode": {
    "name": "ipython",
    "version": 2
   },
   "file_extension": ".py",
   "mimetype": "text/x-python",
   "name": "python",
   "nbconvert_exporter": "python",
   "pygments_lexer": "ipython2",
   "version": "2.7.6"
  }
 },
 "nbformat": 4,
 "nbformat_minor": 5
}
